{
 "cells": [
  {
   "cell_type": "markdown",
   "id": "be1dd0b2",
   "metadata": {},
   "source": [
    "__<span style=\"font-size: 40px;\"></span>__   \n",
    "\n",
    "---\n",
    "\n",
    "__<font size=\"6\">1. Business Understanding</font>__   \n",
    "\n",
    "***<span style=\"font-size: 24px;\">1.1 Overview</span>***\n",
    "\n",
    " Companies  produce a number of brands and products and to evaluate this products, companies need to know how they react to the market. Information about how client/customers relate to certain brands and products is important so as to improve on them.\n",
    "\n",
    "---\n",
    "\n",
    "***<span style=\"font-size: 24px;\">1.2 Problem Statement</span>*** \n",
    "Companies would like to determine how brands and products are perceieved by their respective clientelle. As there is a lot of feedback, it is imposible to really track this responses\n",
    "\n",
    "---\n",
    "\n",
    "***<span style=\"font-size: 24px;\">1.3 Business Objective</span>*** \n",
    "The objective is to find a way to sort through all the responses received for various brands and products to find out which do well.\n",
    "  \n",
    "\n",
    "---\n",
    "\n",
    "***<span style=\"font-size: 24px;\">1.4 Project Objectives</span>***   \n",
    "\n",
    "**Main Objective**  \n",
    "To create a model that can sort through this responses for the various brands and products. \n",
    "\n",
    "**Specific Objectives**  \n",
    "Model should say wheter a response is positive, negative, or no emotion\n",
    "\n",
    "---\n",
    "\n",
    "***<span style=\"font-size: 24px;\">1.5 Research Questions</span>***   \n",
    "\n",
    "\n",
    "\n",
    "---\n",
    "\n",
    "***<span style=\"font-size: 24px;\">1.6 Success Criteria</span>***    \n",
    "To suucessfully create a model that can accurately predict 90% of this responses as either positive, negative or no emotion\n",
    "\n",
    "---"
   ]
  },
  {
   "cell_type": "markdown",
   "id": "1aee70e9",
   "metadata": {},
   "source": [
    "__<font size=\"6\">2. Data Understanding</font>__"
   ]
  },
  {
   "cell_type": "markdown",
   "id": "6fdba98a",
   "metadata": {},
   "source": [
    "__<font size=\"6\">3. Data Preparation</font>__ \n",
    "\n",
    "\n",
    "---\n",
    "***<span style=\"font-size: 24px;\">3.1 Importing Relevant Libraries</span>***"
   ]
  },
  {
   "cell_type": "markdown",
   "id": "1d20b6ef",
   "metadata": {},
   "source": []
  }
 ],
 "metadata": {
  "language_info": {
   "name": "python"
  }
 },
 "nbformat": 4,
 "nbformat_minor": 5
}
